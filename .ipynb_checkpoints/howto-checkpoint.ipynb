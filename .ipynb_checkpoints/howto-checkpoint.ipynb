{
 "cells": [
  {
   "cell_type": "markdown",
   "metadata": {},
   "source": [
    "This file provides scripts for accessing and using the infographics metadata (for the 63K and 29K datasets, stored in infographics60K_metadata.pckl) as well as for downloading the infographics images referred to."
   ]
  },
  {
   "cell_type": "code",
   "execution_count": 1,
   "metadata": {},
   "outputs": [],
   "source": [
    "import pickle as pkl\n",
    "from pprint import pprint\n",
    "import numpy as np\n",
    "import time\n",
    "import urllib\n",
    "import urllib.request\n",
    "import os\n",
    "import pandas as pd \n",
    "from collections import Counter\n",
    "import matplotlib.pyplot as plt\n",
    "%matplotlib inline\n",
    "\n",
    "class infographicInfo:\n",
    "    def __init__(self,currow):\n",
    "        self.views = int(currow['views']);\n",
    "        self.likes = int(currow['likes']);\n",
    "        self.shares = int(currow['shares']);\n",
    "        self.comments = int(currow['comments']);\n",
    "        self.staffPick = currow['staffPick'];\n",
    "        self.imgurl = currow['url_img_ful_res'];\n",
    "        self.mainurl = currow['url'];\n",
    "        self.title = currow['igTitle'];\n",
    "        self.category = currow['category'];\n",
    "        self.description = currow['description'];\n",
    "        self.title = currow['title'];\n",
    "        self.tags = currow['tags'];"
   ]
  },
  {
   "cell_type": "markdown",
   "metadata": {},
   "source": [
    "# Get the meta-data for the infographic dataset: #"
   ]
  },
  {
   "cell_type": "code",
   "execution_count": 2,
   "metadata": {},
   "outputs": [
    {
     "ename": "ModuleNotFoundError",
     "evalue": "No module named 'infographicInfo'",
     "output_type": "error",
     "traceback": [
      "\u001b[1;31m---------------------------------------------------------------------------\u001b[0m",
      "\u001b[1;31mModuleNotFoundError\u001b[0m                       Traceback (most recent call last)",
      "\u001b[1;32m<ipython-input-2-c84cf9ab0270>\u001b[0m in \u001b[0;36m<module>\u001b[1;34m\u001b[0m\n\u001b[1;32m----> 1\u001b[1;33m \u001b[0minfographicList\u001b[0m \u001b[1;33m=\u001b[0m \u001b[0mpkl\u001b[0m\u001b[1;33m.\u001b[0m\u001b[0mload\u001b[0m\u001b[1;33m(\u001b[0m\u001b[0mopen\u001b[0m\u001b[1;33m(\u001b[0m\u001b[1;34m\"infographics60K_metadata.pckl\"\u001b[0m\u001b[1;33m,\u001b[0m \u001b[1;34m\"rb\"\u001b[0m\u001b[1;33m)\u001b[0m\u001b[1;33m)\u001b[0m\u001b[1;33m\u001b[0m\u001b[1;33m\u001b[0m\u001b[0m\n\u001b[0m",
      "\u001b[1;31mModuleNotFoundError\u001b[0m: No module named 'infographicInfo'"
     ]
    }
   ],
   "source": [
    "infographicList = pkl.load(open(\"infographics60K_metadata.pckl\", \"rb\"))"
   ]
  },
  {
   "cell_type": "code",
   "execution_count": 3,
   "metadata": {},
   "outputs": [
    {
     "name": "stdout",
     "output_type": "stream",
     "text": [
      "We include meta-data obtained from Visual.ly for 63738 infographics. We call this the 63K dataset.\n",
      "No additional filtering or annotations are provided beyond what is already found on Visual.ly.\n",
      "This is the original, uncurated data.\n",
      "Note: we do not provide the downloaded images themselves, only the URLs for download.\n"
     ]
    }
   ],
   "source": [
    "print('We include meta-data obtained from Visual.ly for %d infographics. We call this the 63K dataset.\\n'\\\n",
    "       'No additional filtering or annotations are provided beyond what is already found on Visual.ly.\\n'\\\n",
    "       'This is the original, uncurated data.\\n'\\\n",
    "      'Note: we do not provide the downloaded images themselves, only the URLs for download.'\n",
    "      %(len(infographicList)))"
   ]
  },
  {
   "cell_type": "code",
   "execution_count": 4,
   "metadata": {},
   "outputs": [
    {
     "name": "stdout",
     "output_type": "stream",
     "text": [
      "{'category': 'Business',\n",
      " 'comments': 7,\n",
      " 'description': \"Visually's latest report dives into the relationship between \"\n",
      "                'marketers and creatives.',\n",
      " 'imgurl': 'http://thumbnails.visually.netdna-cdn.com/marketers-vs-creatives-communication-breakdown-thumbnail_5639568df0acc_h1000.png',\n",
      " 'imname': 'marketers-vs-creatives-communication-breakdown-thumbnail_5639568df0acc.png',\n",
      " 'likes': 150,\n",
      " 'mainurl': 'http://visual.ly/marketers-vs-creatives-communication-breakdown',\n",
      " 'shares': 75,\n",
      " 'staffPick': 'FALSE',\n",
      " 'tags': ['marketing', 'content', 'markting in business', 'designers'],\n",
      " 'title': 'Marketers vs Creatives: Communication Breakdown',\n",
      " 'transcript': [],\n",
      " 'views': 8760}\n"
     ]
    }
   ],
   "source": [
    "# Here we can see all the meta-data that is available per infographic.\n",
    "pprint(infographicList[0].__dict__)"
   ]
  },
  {
   "cell_type": "code",
   "execution_count": 5,
   "metadata": {},
   "outputs": [
    {
     "name": "stdout",
     "output_type": "stream",
     "text": [
      "63727 (99%) of the infographics have titles, 60337 (94%) have descriptions, 1193 (1%) have associated transcripts.\n"
     ]
    }
   ],
   "source": [
    "n1 = len([i for i in range(len(infographicList)) if len(infographicList[i].title)])\n",
    "n2 = len([i for i in range(len(infographicList)) if len(infographicList[i].description)])\n",
    "n3 = len([i for i in range(len(infographicList)) if len(infographicList[i].transcript)])\n",
    "tot = float(len(infographicList))\n",
    "print('%d (%d%%) of the infographics have titles, %d (%d%%) have descriptions, %d (%d%%) have associated transcripts.'\\\n",
    "%(n1,100*n1/tot,n2,100*n2/tot,n3,100*n3/tot))\n",
    "  "
   ]
  },
  {
   "cell_type": "markdown",
   "metadata": {},
   "source": [
    "### Notes about metadata ###\n",
    "* category: 1 of 26 categories (listed in https://github.com/cvzoya/visuallydata/blob/master/29kfiles/map_labels_cats.txt)\n",
    "* comments: # of comments about this infographic on the Visual.ly page (a quantification of interest/popularity)\n",
    "* description: the free-form description provided by the infographic's designer (can be used for caption prediction tasks)\n",
    "* imgurl: the URL from which the image can be downloaded (at high resolution)\n",
    "* imname: the filename of the image\n",
    "* likes: # of likes this infographic received on Visual.ly (a quantification of interest/popularity)\n",
    "* mainurl: the URL of the page containing both the infographic image and metadata on Visual.ly\n",
    "* shares: # of shares this infographic received on Visual.ly (a quantification of interest/popularity)\n",
    "* staffPick: whether this infographic was a staff pick at Visual.ly (a binary quality attribute)\n",
    "* tags: free-form tags (multiple) given to the infographic by the designer\n",
    "* title: the title of the infographic (can be used for caption prediction tasks)\n",
    "* transcript: about 1K infographics (see cell above) come with transcripts of the content (can be used for captioning and summarization tasks)\n",
    "* views: # of times this infographic was viewe on Visual.ly (a quantification of interest/popularity)"
   ]
  },
  {
   "cell_type": "code",
   "execution_count": 6,
   "metadata": {},
   "outputs": [
    {
     "name": "stdout",
     "output_type": "stream",
     "text": [
      "Out of the 63738 original infographics, we curated a subset of 28973 infographics. We call this the 29K dataset.\n",
      "For various learning tasks in our paper, we split them into 26076 training images and 2897 test images.\n"
     ]
    }
   ],
   "source": [
    "lines = open('29kfiles/train.txt','rb').readlines()\n",
    "trainfiles = [l.split()[0] for l in lines] # train files\n",
    "lines = open('29kfiles/test.txt','rb').readlines()\n",
    "testfiles = [l.split()[0] for l in lines] # test files\n",
    "print('Out of the %d original infographics, we curated a subset of %d infographics. We call this the 29K dataset.\\n'\\\n",
    "      'For various learning tasks in our paper, we split them into %d training images and %d test images.'\n",
    "     %(len(infographicList),len(trainfiles)+len(testfiles),len(trainfiles),len(testfiles)))"
   ]
  },
  {
   "cell_type": "markdown",
   "metadata": {},
   "source": [
    "https://github.com/cvzoya/visuallydata/blob/master/29kfiles/train.txt contains a list (one filename per line) of the training infographics. https://github.com/cvzoya/visuallydata/blob/master/29kfiles/test.txt contains a list (one filename per line) of the test infographics.\n",
    "\n",
    "Each filename (imname) is followed by an integer (0-25) that corresponds to the category of the infographic (see https://github.com/cvzoya/visuallydata/blob/master/29kfiles/map_labels_cats.txt) and (multiple) additional integers (0-390) that correspond to the tags of an infographic (see https://github.com/cvzoya/visuallydata/blob/master/29kfiles/map_labels_tags.txt)."
   ]
  },
  {
   "cell_type": "code",
   "execution_count": 7,
   "metadata": {},
   "outputs": [],
   "source": [
    "lines = open('29kfiles/train.txt','rb').readlines()\n",
    "alltags = [l.split()[2:] for l in lines]\n",
    "allcats = [l.split()[1] for l in lines]\n",
    "lines2 = open('29kfiles/test.txt','rb').readlines()\n",
    "alltags.extend([l.split()[2:] for l in lines2])\n",
    "allcats.extend([l.split()[1] for l in lines2])"
   ]
  },
  {
   "cell_type": "code",
   "execution_count": 8,
   "metadata": {},
   "outputs": [
    {
     "data": {
      "image/png": "[encoded data removed]",
      "text/plain": [
       "<matplotlib.figure.Figure at 0x7f86f8386c88>"
      ]
     },
     "metadata": {},
     "output_type": "display_data"
    }
   ],
   "source": [
    "# plot the distribution of categories across the infographics\n",
    "\n",
    "lines = open('29kfiles/map_labels_cats.txt','rb').readlines()\n",
    "cat_id_to_name = {l.split()[0]:l.split()[1].decode('utf-8') for l in lines}\n",
    "\n",
    "dict_of_cats = Counter(allcats)\n",
    "cat_names = []\n",
    "cat_counts = []\n",
    "for key,val in dict_of_cats.items():\n",
    "    cat_names.append(cat_id_to_name[key])\n",
    "    cat_counts.append(val)\n",
    "\n",
    "inds = np.argsort(cat_counts)[::-1]\n",
    "cat_names = [cat_names[i] for i in inds]\n",
    "cat_counts = [cat_counts[i] for i in inds]\n",
    "\n",
    "plt.figure(figsize=(20, 8));\n",
    "plt.bar(range(len(cat_names)), cat_counts, align='center', alpha=0.8);\n",
    "plt.xticks(range(len(cat_names)), cat_names,rotation=90,fontsize=16);\n",
    "plt.yticks(fontsize=16);\n",
    "plt.ylabel('# infographics of given category',fontsize=16);"
   ]
  },
  {
   "cell_type": "code",
   "execution_count": 9,
   "metadata": {},
   "outputs": [
    {
     "name": "stdout",
     "output_type": "stream",
     "text": [
      "The average number of tags per infographic: 2 (range: 1-9).\n"
     ]
    }
   ],
   "source": [
    "ntags = [len(t) for t in alltags]\n",
    "print('The average number of tags per infographic: %d (range: %d-%d).'\n",
    "      %(np.mean(ntags),min(ntags),max(ntags)))"
   ]
  },
  {
   "cell_type": "code",
   "execution_count": 10,
   "metadata": {},
   "outputs": [
    {
     "data": {
      "image/png": "[encoded data removed]",
      "text/plain": [
       "<matplotlib.figure.Figure at 0x7f86f8386da0>"
      ]
     },
     "metadata": {},
     "output_type": "display_data"
    }
   ],
   "source": [
    "# plot the distribution of tags across the infographics\n",
    "\n",
    "lines = open('29kfiles/map_labels_tags.txt','rb').readlines()\n",
    "tag_id_to_name = {l.split()[0]:l.split()[1].decode('utf-8') for l in lines}\n",
    "\n",
    "alltags_flat = [item for sublist in alltags for item in sublist]\n",
    "dict_of_tags = Counter(alltags_flat)\n",
    "tag_names = []\n",
    "tag_counts = []\n",
    "for key,val in dict_of_tags.items():\n",
    "    tag_names.append(tag_id_to_name[key])\n",
    "    tag_counts.append(val)\n",
    "\n",
    "inds = np.argsort(tag_counts)[::-1]\n",
    "tag_names = [tag_names[i] for i in inds]\n",
    "tag_counts = [tag_counts[i] for i in inds]\n",
    "\n",
    "plt.figure(figsize=(20, 8));\n",
    "plt.bar(range(len(tag_names)), tag_counts, align='center', alpha=0.8);\n",
    "plt.yticks(fontsize=16);\n",
    "plt.ylabel('# infographics of given tag',fontsize=16);\n",
    "plt.xlabel('tag index',fontsize=16);"
   ]
  },
  {
   "cell_type": "code",
   "execution_count": 11,
   "metadata": {},
   "outputs": [
    {
     "data": {
      "text/html": [
       "<div>\n",
       "<style>\n",
       "    .dataframe thead tr:only-child th {\n",
       "        text-align: right;\n",
       "    }\n",
       "\n",
       "    .dataframe thead th {\n",
       "        text-align: left;\n",
       "    }\n",
       "\n",
       "    .dataframe tbody tr th {\n",
       "        vertical-align: top;\n",
       "    }\n",
       "</style>\n",
       "<table border=\"1\" class=\"dataframe\">\n",
       "  <thead>\n",
       "    <tr style=\"text-align: right;\">\n",
       "      <th></th>\n",
       "      <th># occurrences</th>\n",
       "    </tr>\n",
       "  </thead>\n",
       "  <tbody>\n",
       "    <tr>\n",
       "      <th>social</th>\n",
       "      <td>2331</td>\n",
       "    </tr>\n",
       "    <tr>\n",
       "      <th>business</th>\n",
       "      <td>1595</td>\n",
       "    </tr>\n",
       "    <tr>\n",
       "      <th>health</th>\n",
       "      <td>1538</td>\n",
       "    </tr>\n",
       "    <tr>\n",
       "      <th>marketing</th>\n",
       "      <td>1335</td>\n",
       "    </tr>\n",
       "    <tr>\n",
       "      <th>food</th>\n",
       "      <td>905</td>\n",
       "    </tr>\n",
       "    <tr>\n",
       "      <th>technology</th>\n",
       "      <td>890</td>\n",
       "    </tr>\n",
       "    <tr>\n",
       "      <th>education</th>\n",
       "      <td>809</td>\n",
       "    </tr>\n",
       "    <tr>\n",
       "      <th>travel</th>\n",
       "      <td>705</td>\n",
       "    </tr>\n",
       "    <tr>\n",
       "      <th>cell_phone</th>\n",
       "      <td>665</td>\n",
       "    </tr>\n",
       "    <tr>\n",
       "      <th>economy</th>\n",
       "      <td>663</td>\n",
       "    </tr>\n",
       "    <tr>\n",
       "      <th>mobile</th>\n",
       "      <td>603</td>\n",
       "    </tr>\n",
       "    <tr>\n",
       "      <th>internet</th>\n",
       "      <td>545</td>\n",
       "    </tr>\n",
       "    <tr>\n",
       "      <th>sport</th>\n",
       "      <td>534</td>\n",
       "    </tr>\n",
       "    <tr>\n",
       "      <th>football</th>\n",
       "      <td>523</td>\n",
       "    </tr>\n",
       "    <tr>\n",
       "      <th>car</th>\n",
       "      <td>511</td>\n",
       "    </tr>\n",
       "    <tr>\n",
       "      <th>money</th>\n",
       "      <td>463</td>\n",
       "    </tr>\n",
       "    <tr>\n",
       "      <th>history</th>\n",
       "      <td>442</td>\n",
       "    </tr>\n",
       "    <tr>\n",
       "      <th>search</th>\n",
       "      <td>426</td>\n",
       "    </tr>\n",
       "    <tr>\n",
       "      <th>finance</th>\n",
       "      <td>414</td>\n",
       "    </tr>\n",
       "    <tr>\n",
       "      <th>map</th>\n",
       "      <td>402</td>\n",
       "    </tr>\n",
       "  </tbody>\n",
       "</table>\n",
       "</div>"
      ],
      "text/plain": [
       "            # occurrences\n",
       "social               2331\n",
       "business             1595\n",
       "health               1538\n",
       "marketing            1335\n",
       "food                  905\n",
       "technology            890\n",
       "education             809\n",
       "travel                705\n",
       "cell_phone            665\n",
       "economy               663\n",
       "mobile                603\n",
       "internet              545\n",
       "sport                 534\n",
       "football              523\n",
       "car                   511\n",
       "money                 463\n",
       "history               442\n",
       "search                426\n",
       "finance               414\n",
       "map                   402"
      ]
     },
     "execution_count": 11,
     "metadata": {},
     "output_type": "execute_result"
    }
   ],
   "source": [
    "ntop = 20 # print tags occuring most numbers of times in this dataset\n",
    "pd.DataFrame({'# occurrences':tag_counts[:ntop]},index=tag_names[:ntop])"
   ]
  },
  {
   "cell_type": "markdown",
   "metadata": {},
   "source": [
    "### Notes about 29K dataset and tags ###\n",
    "\n",
    "These tags were curated from the original free-form tags of the 63K dataset. \n",
    "Many of the original tags are either semantically\n",
    "redundant or have too few instances. Redundant tags\n",
    "were merged using WordNet and manually, and only\n",
    "the 391 tags with at least 50 image instances each were retained.\n",
    "To produce the final 29K dataset, we further filtered\n",
    "images to contain a category annotation, and at least one of the\n",
    "391 tags."
   ]
  },
  {
   "cell_type": "markdown",
   "metadata": {},
   "source": [
    "# Download the infographic images: #"
   ]
  },
  {
   "cell_type": "markdown",
   "metadata": {},
   "source": [
    "### Download all 63K images: ###"
   ]
  },
  {
   "cell_type": "code",
   "execution_count": 12,
   "metadata": {},
   "outputs": [],
   "source": [
    "#infographicList = pkl.load(open(\"infographics60K_metadata.pckl\", \"rb\"))\n",
    "\n",
    "outdir = 'fullsize-60k' # where to save the downloaded image files\n",
    "if not os.path.exists(outdir):\n",
    "    os.makedirs(outdir)\n",
    "\n",
    "for i in range(len(infographicList)):\n",
    "    \n",
    "    # use this url directly to obtain images (with limits on image width, indicated by '_w1000' in the filename)\n",
    "    url = infographicList[i].imgurl \n",
    "    \n",
    "    # use this adjusted url to obtain full-size images\n",
    "    usp = url.rfind('_') # underscore position\n",
    "    pp = url.rfind('.') # period position\n",
    "    fullsizeimurl = url[:usp] + url[pp:] # full size image url\n",
    "    \n",
    "    # the above is identical to just using the following, except for 3 images that have exceptionally long filenames\n",
    "    # (image IDs: 8865, 44810, 45886)\n",
    "    imname = infographicList[i].imname \n",
    "    fullurl = 'http://thumbnails.visually.netdna-cdn.com/%s'%(imname)\n",
    "    \n",
    "    #urllib.urlretrieve(fullsizeimurl, os.path.join(outdir,imname)) # python 2\n",
    "    urllib.request.urlretrieve(fullsizeimurl, os.path.join(outdir,imname)) # python 3\n",
    "    \n",
    "    time.sleep(1) # to avoid launching too many download requests at once\n",
    "    break # remove break to keep downloading images\n"
   ]
  },
  {
   "cell_type": "markdown",
   "metadata": {},
   "source": [
    "### Download just the 2.8K test images: ###"
   ]
  },
  {
   "cell_type": "code",
   "execution_count": 13,
   "metadata": {},
   "outputs": [
    {
     "name": "stdout",
     "output_type": "stream",
     "text": [
      ".\n",
      "\n"
     ]
    }
   ],
   "source": [
    "outdir = 'test-images' # where to save the downloaded image files\n",
    "if not os.path.exists(outdir):\n",
    "    os.makedirs(outdir)\n",
    "\n",
    "lines = open('29kfiles/test.txt','rb').readlines()\n",
    "testfilenames = [l.split()[0] for l in lines]\n",
    "\n",
    "for i in range(len(testfilenames)):\n",
    "    imname = testfilenames[i].decode('utf-8')\n",
    "    fullurl = 'http://thumbnails.visually.netdna-cdn.com/%s'%(imname)\n",
    "    \n",
    "    #urllib.urlretrieve(fullsizeimurl, os.path.join(outdir,imname)) # python 2\n",
    "    urllib.request.urlretrieve(fullsizeimurl, os.path.join(outdir,imname)) # python 3\n",
    "\n",
    "    # to monitor progress:\n",
    "    if i%50==0:\n",
    "        print('.\\n')\n",
    "    else:\n",
    "        print('.', end='')\n",
    "        \n",
    "    time.sleep(1) # to avoid launching too many download requests at once\n",
    "    \n",
    "    break # remove break to keep downloading images\n",
    "    "
   ]
  }
 ],
 "metadata": {
  "kernelspec": {
   "display_name": "Python 3",
   "language": "python",
   "name": "python3"
  },
  "language_info": {
   "codemirror_mode": {
    "name": "ipython",
    "version": 3
   },
   "file_extension": ".py",
   "mimetype": "text/x-python",
   "name": "python",
   "nbconvert_exporter": "python",
   "pygments_lexer": "ipython3",
   "version": "3.7.6"
  }
 },
 "nbformat": 4,
 "nbformat_minor": 2
}
